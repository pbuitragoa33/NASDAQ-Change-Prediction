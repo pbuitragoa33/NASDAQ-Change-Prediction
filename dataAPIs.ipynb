{
 "cells": [
  {
   "cell_type": "markdown",
   "metadata": {},
   "source": [
    "# **Data from Sentiment Trader & Alpha Vantage**"
   ]
  },
  {
   "cell_type": "code",
   "execution_count": 1,
   "metadata": {},
   "outputs": [],
   "source": [
    "import requests"
   ]
  },
  {
   "cell_type": "code",
   "execution_count": null,
   "metadata": {},
   "outputs": [],
   "source": [
    "import pandas as pd\n",
    "import matplotlib.pyplot as plt"
   ]
  },
  {
   "cell_type": "markdown",
   "metadata": {},
   "source": [
    "# Alpha Vantage"
   ]
  },
  {
   "cell_type": "code",
   "execution_count": 20,
   "metadata": {},
   "outputs": [
    {
     "name": "stdout",
     "output_type": "stream",
     "text": [
      "{'meta_data': {'symbols': 'AAPL,IBM,MSFT', 'min_dt': '2001-01-02', 'max_dt': '2023-08-31', 'ohlc': 'Close', 'interval': 'DAILY'}, 'payload': {'RETURNS_CALCULATIONS': {'MEAN': {'AAPL': 0.001436220838269205, 'IBM': 0.00032692461198663235, 'MSFT': 0.0007261975594050071}, 'STDDEV': {'AAPL': 0.022630155532520006, 'IBM': 0.01552618304536168, 'MSFT': 0.018277441627641264}, 'CORRELATION': {'index': ['AAPL', 'IBM', 'MSFT'], 'correlation': [[1.0], [0.4382455115, 1.0], [0.5237123855, 0.531990528, 1.0]]}}}}\n"
     ]
    }
   ],
   "source": [
    "url = 'https://alphavantageapi.co/timeseries/analytics?SYMBOLS=AAPL,MSFT,IBM&RANGE=2001-01-01&RANGE=2023-08-31&INTERVAL=DAILY&OHLC=close&CALCULATIONS=MEAN,STDDEV,CORRELATION&apikey=27BN0Q1AOQ3EVJ4O'\n",
    "r = requests.get(url)\n",
    "data1 = r.json()\n",
    "print(data1)"
   ]
  }
 ],
 "metadata": {
  "kernelspec": {
   "display_name": "Python 3",
   "language": "python",
   "name": "python3"
  },
  "language_info": {
   "codemirror_mode": {
    "name": "ipython",
    "version": 3
   },
   "file_extension": ".py",
   "mimetype": "text/x-python",
   "name": "python",
   "nbconvert_exporter": "python",
   "pygments_lexer": "ipython3",
   "version": "3.13.1"
  }
 },
 "nbformat": 4,
 "nbformat_minor": 2
}
