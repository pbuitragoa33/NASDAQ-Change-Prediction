{
 "cells": [
  {
   "cell_type": "code",
   "execution_count": 1,
   "metadata": {},
   "outputs": [],
   "source": [
    "import pandas as pd\n",
    "import numpy as np\n",
    "import matplotlib.pyplot as plt\n",
    "import yfinance as yf"
   ]
  },
  {
   "cell_type": "code",
   "execution_count": 2,
   "metadata": {},
   "outputs": [
    {
     "data": {
      "image/png": "[encoded data removed]",
      "text/plain": [
       "<Figure size 640x480 with 1 Axes>"
      ]
     },
     "metadata": {},
     "output_type": "display_data"
    }
   ],
   "source": [
    "tickerData_nq = yf.Ticker('NQ=F')\n",
    "data_nq = tickerData_nq.history(period='1d', start='2000-1-1', end='2024-12-19')\n",
    "data_nq['Close'].plot(color = 'turquoise', label = 'NQ')\n",
    "plt.title('NASDAQ')\n",
    "plt.legend()\n",
    "plt.show()"
   ]
  },
  {
   "cell_type": "code",
   "execution_count": 3,
   "metadata": {},
   "outputs": [
    {
     "data": {
      "text/html": [
       "<div>\n",
       "<style scoped>\n",
       "    .dataframe tbody tr th:only-of-type {\n",
       "        vertical-align: middle;\n",
       "    }\n",
       "\n",
       "    .dataframe tbody tr th {\n",
       "        vertical-align: top;\n",
       "    }\n",
       "\n",
       "    .dataframe thead th {\n",
       "        text-align: right;\n",
       "    }\n",
       "</style>\n",
       "<table border=\"1\" class=\"dataframe\">\n",
       "  <thead>\n",
       "    <tr style=\"text-align: right;\">\n",
       "      <th></th>\n",
       "      <th>Open</th>\n",
       "      <th>Close</th>\n",
       "      <th>Volume</th>\n",
       "    </tr>\n",
       "    <tr>\n",
       "      <th>Date</th>\n",
       "      <th></th>\n",
       "      <th></th>\n",
       "      <th></th>\n",
       "    </tr>\n",
       "  </thead>\n",
       "  <tbody>\n",
       "    <tr>\n",
       "      <th>2000-09-18 00:00:00-04:00</th>\n",
       "      <td>3721.00</td>\n",
       "      <td>3653.50</td>\n",
       "      <td>72994</td>\n",
       "    </tr>\n",
       "    <tr>\n",
       "      <th>2000-09-19 00:00:00-04:00</th>\n",
       "      <td>3658.50</td>\n",
       "      <td>3804.00</td>\n",
       "      <td>70029</td>\n",
       "    </tr>\n",
       "    <tr>\n",
       "      <th>2000-09-20 00:00:00-04:00</th>\n",
       "      <td>3801.50</td>\n",
       "      <td>3853.00</td>\n",
       "      <td>78832</td>\n",
       "    </tr>\n",
       "    <tr>\n",
       "      <th>2000-09-21 00:00:00-04:00</th>\n",
       "      <td>3852.00</td>\n",
       "      <td>3765.00</td>\n",
       "      <td>70719</td>\n",
       "    </tr>\n",
       "    <tr>\n",
       "      <th>2000-09-22 00:00:00-04:00</th>\n",
       "      <td>3673.00</td>\n",
       "      <td>3776.00</td>\n",
       "      <td>55926</td>\n",
       "    </tr>\n",
       "    <tr>\n",
       "      <th>...</th>\n",
       "      <td>...</td>\n",
       "      <td>...</td>\n",
       "      <td>...</td>\n",
       "    </tr>\n",
       "    <tr>\n",
       "      <th>2024-12-12 00:00:00-05:00</th>\n",
       "      <td>21756.75</td>\n",
       "      <td>21651.25</td>\n",
       "      <td>510307</td>\n",
       "    </tr>\n",
       "    <tr>\n",
       "      <th>2024-12-13 00:00:00-05:00</th>\n",
       "      <td>21720.75</td>\n",
       "      <td>21795.75</td>\n",
       "      <td>639403</td>\n",
       "    </tr>\n",
       "    <tr>\n",
       "      <th>2024-12-16 00:00:00-05:00</th>\n",
       "      <td>21780.25</td>\n",
       "      <td>22110.25</td>\n",
       "      <td>482433</td>\n",
       "    </tr>\n",
       "    <tr>\n",
       "      <th>2024-12-17 00:00:00-05:00</th>\n",
       "      <td>22115.00</td>\n",
       "      <td>22014.75</td>\n",
       "      <td>277298</td>\n",
       "    </tr>\n",
       "    <tr>\n",
       "      <th>2024-12-18 00:00:00-05:00</th>\n",
       "      <td>22010.00</td>\n",
       "      <td>21218.75</td>\n",
       "      <td>209588</td>\n",
       "    </tr>\n",
       "  </tbody>\n",
       "</table>\n",
       "<p>6126 rows × 3 columns</p>\n",
       "</div>"
      ],
      "text/plain": [
       "                               Open     Close  Volume\n",
       "Date                                                 \n",
       "2000-09-18 00:00:00-04:00   3721.00   3653.50   72994\n",
       "2000-09-19 00:00:00-04:00   3658.50   3804.00   70029\n",
       "2000-09-20 00:00:00-04:00   3801.50   3853.00   78832\n",
       "2000-09-21 00:00:00-04:00   3852.00   3765.00   70719\n",
       "2000-09-22 00:00:00-04:00   3673.00   3776.00   55926\n",
       "...                             ...       ...     ...\n",
       "2024-12-12 00:00:00-05:00  21756.75  21651.25  510307\n",
       "2024-12-13 00:00:00-05:00  21720.75  21795.75  639403\n",
       "2024-12-16 00:00:00-05:00  21780.25  22110.25  482433\n",
       "2024-12-17 00:00:00-05:00  22115.00  22014.75  277298\n",
       "2024-12-18 00:00:00-05:00  22010.00  21218.75  209588\n",
       "\n",
       "[6126 rows x 3 columns]"
      ]
     },
     "execution_count": 3,
     "metadata": {},
     "output_type": "execute_result"
    }
   ],
   "source": [
    "data_nq = data_nq.dropna()\n",
    "data_nq = data_nq.drop(columns= ['Dividends', 'Stock Splits', 'High', 'Low'])\n",
    "data_nq"
   ]
  }
 ],
 "metadata": {
  "kernelspec": {
   "display_name": "Python 3",
   "language": "python",
   "name": "python3"
  },
  "language_info": {
   "codemirror_mode": {
    "name": "ipython",
    "version": 3
   },
   "file_extension": ".py",
   "mimetype": "text/x-python",
   "name": "python",
   "nbconvert_exporter": "python",
   "pygments_lexer": "ipython3",
   "version": "3.13.1"
  }
 },
 "nbformat": 4,
 "nbformat_minor": 2
}
